{
 "cells": [
  {
   "attachments": {},
   "cell_type": "markdown",
   "metadata": {},
   "source": [
    "## Imports"
   ]
  },
  {
   "cell_type": "code",
   "execution_count": 1,
   "metadata": {},
   "outputs": [],
   "source": [
    "import queries\n",
    "import pandas as pd\n",
    "from db_connection import get_sql_as_df\n",
    "from df_manipulation import split_dataframe_by_column_unique_values, convert_and_match_ndc\n",
    "from excel_template import create_excel_template"
   ]
  },
  {
   "attachments": {},
   "cell_type": "markdown",
   "metadata": {},
   "source": [
    "## Query DB"
   ]
  },
  {
   "cell_type": "code",
   "execution_count": 2,
   "metadata": {},
   "outputs": [
    {
     "data": {
      "text/plain": [
       "(3162, 3)"
      ]
     },
     "execution_count": 2,
     "metadata": {},
     "output_type": "execute_result"
    }
   ],
   "source": [
    "df_rx_price = get_sql_as_df('rx_price_query')\n",
    "df_rx_price.shape\n",
    "# df_rx_price.head()\n",
    "# df_rx_price.info()\n",
    "# df_rx_price.describe()"
   ]
  },
  {
   "cell_type": "code",
   "execution_count": 3,
   "metadata": {},
   "outputs": [
    {
     "data": {
      "text/plain": [
       "(4359, 17)"
      ]
     },
     "execution_count": 3,
     "metadata": {},
     "output_type": "execute_result"
    }
   ],
   "source": [
    "df_rx_catalog = get_sql_as_df('rx_catalog_query')\n",
    "df_rx_catalog.shape\n",
    "# display(df_rx_catalog.head())\n",
    "# display(df_rx_catalog.info())"
   ]
  },
  {
   "cell_type": "code",
   "execution_count": 4,
   "metadata": {},
   "outputs": [
    {
     "data": {
      "text/plain": [
       "(4, 1)"
      ]
     },
     "execution_count": 4,
     "metadata": {},
     "output_type": "execute_result"
    }
   ],
   "source": [
    "df_rx_distributor_list = get_sql_as_df('rx_distributor_list')\n",
    "\n",
    "# drop \"Animal Health Logistics LLC\" from rx_distributor_list as it is not a required distributor\n",
    "df_rx_distributor_list = df_rx_distributor_list[df_rx_distributor_list['vendor_name'] != 'Animal Health Logistics LLC']\n",
    "df_rx_distributor_list.shape\n",
    "# display(df_rx_distributor_list.head())\n",
    "# display(df_rx_distributor_list.info())"
   ]
  },
  {
   "cell_type": "code",
   "execution_count": 5,
   "metadata": {},
   "outputs": [
    {
     "data": {
      "text/plain": [
       "(3041, 17)"
      ]
     },
     "execution_count": 5,
     "metadata": {},
     "output_type": "execute_result"
    }
   ],
   "source": [
    "df_rx_catalog_applicable_vendors = df_rx_catalog[df_rx_catalog.vendor_name.isin(df_rx_distributor_list.vendor_name)]\n",
    "df_rx_catalog_applicable_vendors.shape"
   ]
  },
  {
   "attachments": {},
   "cell_type": "markdown",
   "metadata": {},
   "source": [
    "## Generate Catalogs"
   ]
  },
  {
   "cell_type": "code",
   "execution_count": 9,
   "metadata": {},
   "outputs": [
    {
     "name": "stdout",
     "output_type": "stream",
     "text": [
      "Processing Dataframe with  Animal Health International Inc (329, 17)\n",
      "Processing Dataframe with  MWI Veterinary Supply Co (451, 17)\n",
      "Processing Dataframe with  CARDINAL HEALTH, INC. (1305, 17)\n",
      "Processing Dataframe with  HSB VETERINARY SUPPLIES INC (956, 17)\n"
     ]
    }
   ],
   "source": [
    "for vendor_name, catalog in split_dataframe_by_column_unique_values(input_df = df_rx_catalog_applicable_vendors, column = 'vendor_name', sortby = 'parent_company'):\n",
    "    print(\"Processing Dataframe with \",vendor_name, catalog.shape)\n",
    "    date_today = pd.to_datetime('today').strftime('%m_%d_%Y')\n",
    "    create_excel_template(template_df = catalog,\n",
    "                      template_file_path = 'rx_template.xlsx',\n",
    "                      template_password = 'mssve',\n",
    "                      output_path = f'./rx_catalogs_generated/{date_today}/',\n",
    "                      sheet_name = 'Vendor_Catalog',\n",
    "                      editable_columns = ['R','S','T','U', 'W', 'X', 'Y', 'Z', 'AA', 'AB', 'AC'],\n",
    "                      editable_cells = [],\n",
    "                      start_cell = 'A3',\n",
    "                      col_val_for_name = 'vendor_name',\n",
    "                      # cols_to_hide = [],\n",
    "                      # cols_to_hide = ['A', 'B', 'C'],\n",
    "                      cols_to_hide = ['A', 'B', 'C', 'AD', 'AE', 'AF', 'AG', 'AH', 'AI', 'AJ', 'AK', 'AL', 'AM', 'AN'],\n",
    "                      template_name = \"rx_catalog\",\n",
    "                      date_cell = 'F2'\n",
    "                        )"
   ]
  },
  {
   "cell_type": "code",
   "execution_count": 7,
   "metadata": {},
   "outputs": [],
   "source": [
    "# Generate TOTAL Rx Catalog\n",
    "\n",
    "# create_excel_template(template_df = df_rx_catalog_applicable_vendors,\n",
    "#                       template_file_path = 'rx_template.xlsx',\n",
    "#                       template_password = 'mssve',\n",
    "#                       output_path = './output_rx_process/',\n",
    "#                       sheet_name = 'Vendor_Catalog',\n",
    "#                       editable_columns = ['R','S','T','U', 'W', 'X', 'Y', 'Z', 'AA', 'AB', 'AC'],\n",
    "#                       editable_cells = [],\n",
    "#                       start_cell = 'A3',\n",
    "#                       col_val_for_name = 'vendor_name',\n",
    "#                       cols_to_hide = ['A', 'B', 'C', 'AD', 'AE', 'AF', 'AG', 'AH', 'AI', 'AJ', 'AK', 'AL', 'AM'],\n",
    "#                       template_name = \"TOTAL_rx_catalog\",\n",
    "#                       date_cell = 'F2'\n",
    "#                         )\n",
    "\n",
    "# import importlib\n",
    "# import excel_template\n",
    "# from excel_template import create_excel_template\n",
    "\n",
    "# importlib.reload(excel_template)"
   ]
  }
 ],
 "metadata": {
  "kernelspec": {
   "display_name": "Python 3",
   "language": "python",
   "name": "python3"
  },
  "language_info": {
   "codemirror_mode": {
    "name": "ipython",
    "version": 3
   },
   "file_extension": ".py",
   "mimetype": "text/x-python",
   "name": "python",
   "nbconvert_exporter": "python",
   "pygments_lexer": "ipython3",
   "version": "3.10.5"
  },
  "orig_nbformat": 4
 },
 "nbformat": 4,
 "nbformat_minor": 2
}
