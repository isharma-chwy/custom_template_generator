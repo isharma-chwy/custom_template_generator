{
 "cells": [
  {
   "attachments": {},
   "cell_type": "markdown",
   "metadata": {},
   "source": [
    "## Imports"
   ]
  },
  {
   "cell_type": "code",
   "execution_count": 69,
   "metadata": {},
   "outputs": [],
   "source": [
    "import queries\n",
    "import pandas as pd\n",
    "from db_connection import get_sql_as_df\n",
    "from df_manipulation import split_dataframe_by_column_unique_values, convert_and_match_ndc\n",
    "from excel_template import create_excel_template\n",
    "from pathlib import Path\n",
    "import re\n",
    "\n",
    "from datetime import date"
   ]
  },
  {
   "attachments": {},
   "cell_type": "markdown",
   "metadata": {},
   "source": [
    "## Query DB"
   ]
  },
  {
   "cell_type": "code",
   "execution_count": 70,
   "metadata": {},
   "outputs": [
    {
     "data": {
      "text/plain": [
       "(3162, 3)"
      ]
     },
     "execution_count": 70,
     "metadata": {},
     "output_type": "execute_result"
    }
   ],
   "source": [
    "df_rx_price = get_sql_as_df('rx_price_query')\n",
    "df_rx_price.shape\n",
    "# df_rx_price.head()\n",
    "# df_rx_price.info()\n",
    "# df_rx_price.describe()"
   ]
  },
  {
   "cell_type": "code",
   "execution_count": 71,
   "metadata": {},
   "outputs": [],
   "source": [
    "# df_rx_catalog = get_sql_as_df('rx_catalog_query')\n",
    "# df_rx_catalog.shape\n",
    "# display(df_rx_catalog.head())\n",
    "# display(df_rx_catalog.info())"
   ]
  },
  {
   "cell_type": "code",
   "execution_count": 72,
   "metadata": {},
   "outputs": [],
   "source": [
    "# df_rx_distributor_list = get_sql_as_df('rx_distributor_list')\n",
    "\n",
    "# drop \"Animal Health Logistics LLC\" from rx_distributor_list as it is not a required distributor\n",
    "# df_rx_distributor_list = df_rx_distributor_list[df_rx_distributor_list['vendor_name'] != 'Animal Health Logistics LLC']\n",
    "# df_rx_distributor_list.shape\n",
    "# display(df_rx_distributor_list.head())\n",
    "# display(df_rx_distributor_list.info())"
   ]
  },
  {
   "cell_type": "code",
   "execution_count": 73,
   "metadata": {},
   "outputs": [],
   "source": [
    "# df_rx_catalog_applicable_vendors = df_rx_catalog[df_rx_catalog.vendor_name.isin(df_rx_distributor_list.vendor_name)]\n",
    "# df_rx_catalog_applicable_vendors.shape"
   ]
  },
  {
   "attachments": {},
   "cell_type": "markdown",
   "metadata": {},
   "source": [
    "## Read in Vendor Response Catalogs"
   ]
  },
  {
   "cell_type": "code",
   "execution_count": 74,
   "metadata": {},
   "outputs": [
    {
     "data": {
      "text/plain": [
       "True"
      ]
     },
     "execution_count": 74,
     "metadata": {},
     "output_type": "execute_result"
    }
   ],
   "source": [
    "vendor_response_path = Path(r\"C:\\Users\\isharma\\OneDrive - Chewy.com, LLC\\Documents\\GitHub\\custom_template_generator\\received_rx\\04-26-2023\")\n",
    "vendor_response_path.exists()"
   ]
  },
  {
   "cell_type": "code",
   "execution_count": 75,
   "metadata": {},
   "outputs": [],
   "source": [
    "rx_template_columns = ['agreement_number',\n",
    "                            'Rx Number',\n",
    "                            'Vendor_Number',\n",
    "                            'Vendor Name',\n",
    "                            'Chewy SKU',\n",
    "                            'Parent Company',\n",
    "                            'Brand',\n",
    "                            'Item Name',\n",
    "                            'Vendor Part Number',\n",
    "                            'Purchasing UOM',\n",
    "                            'Purchasing UOM Qty',\n",
    "                            'Vendor Purchasing Cost (at UOM)',\n",
    "                            'Cost per Sellable UOM \\n(Vendor Purchasing Cost/Purchasing UOM Qty)',\n",
    "                            'Existing Order Multiples',\n",
    "                            'Existing Minimum Order Quantity',\n",
    "                            'Manufacturer',\n",
    "                            'NDC',\n",
    "                            'Discontinued',\n",
    "                            'New Cost Per Purchasing UOM',\n",
    "                            'New Purchasing UOM',\n",
    "                            'New Purchasing UOM Qty',\n",
    "                            'New cost per sellable UOM\\n(Calculated)',\n",
    "                            'New VPN',\n",
    "                            'New Manufacturer',\n",
    "                            'New NDC',\n",
    "                            'Updated Order Multiple',\n",
    "                            'Updated Minimum Order Quantity',\n",
    "                            'MBO (Manufacturer Back Ordered)\\n(Y/N)',\n",
    "                            'MBO Estimate Recovery Date (mm/dd/yyyy)',\n",
    "                            'Current Cost per Purchasing UOM',\n",
    "                            'Current Cost per Sellable UOM Quantity',\n",
    "                            'New Cost per Purchasing UOM Quantity',\n",
    "                            'New Cost per Sellable UOM Quantity',\n",
    "                            'Existing MSRP (list)',\n",
    "                            'Cost % Difference',\n",
    "                            'Old Margin',\n",
    "                            'New Margin',\n",
    "                            'Margin Difference',\n",
    "                            'Vendor Filled?',\n",
    "                            'NDC Format Check']\n",
    "\n",
    "fillable_vendor_data_columns = [ 'Discontinued',\n",
    "                            'New Cost Per Purchasing UOM',\n",
    "                            'New Purchasing UOM',\n",
    "                            'New Purchasing UOM Qty',\n",
    "                            # 'New cost per sellable UOM\\n(Calculated)',\n",
    "                            'New VPN',\n",
    "                            'New Manufacturer',\n",
    "                            'New NDC',\n",
    "                            'Updated Order Multiple',\n",
    "                            'Updated Minimum Order Quantity',\n",
    "                            'MBO (Manufacturer Back Ordered)\\n(Y/N)',\n",
    "                            'MBO Estimate Recovery Date (mm/dd/yyyy)',\n",
    "                            ]\n",
    "\n",
    "rx_template_column_dtypes = {'agreement_number': str,\n",
    "                            'Rx Number': str,\n",
    "                            'Vendor_Number': str,\n",
    "                            'Vendor Name': str,\n",
    "                            'Chewy SKU': str,\n",
    "                            'Parent Company': str,\n",
    "                            'Brand': str,\n",
    "                            'Item Name': str,\n",
    "                            'Vendor Part Number': str,\n",
    "                            'Purchasing UOM': str,\n",
    "                            'Purchasing UOM Qty': str,\n",
    "                            'Vendor Purchasing Cost (at UOM)': str,\n",
    "                            'Cost per Sellable UOM \\n(Vendor Purchasing Cost/Purchasing UOM Qty)': float,\n",
    "                            'Existing Order Multiples': str,\n",
    "                            'Existing Minimum Order Quantity': str,\n",
    "                            'Manufacturer': str,\n",
    "                            'NDC': str,\n",
    "                            'Discontinued': str,\n",
    "                            'New Cost Per Purchasing UOM': str,\n",
    "                            'New Purchasing UOM': str,\n",
    "                            'New Purchasing UOM Qty': str,\n",
    "                            'New cost per sellable UOM\\n(Calculated)': object,\n",
    "                            'New VPN': str,\n",
    "                            'New Manufacturer': str,\n",
    "                            'New NDC': str,\n",
    "                            'Updated Order Multiple': str,\n",
    "                            'Updated Minimum Order Quantity': str,\n",
    "                            'MBO (Manufacturer Back Ordered)\\n(Y/N)': str,\n",
    "                            'MBO Estimate Recovery Date (mm/dd/yyyy)': str,\n",
    "                            'Current Cost per Purchasing UOM': str,\n",
    "                            'Current Cost per Sellable UOM Quantity': int,\n",
    "                            'New Cost per Purchasing UOM Quantity': int,\n",
    "                            'New Cost per Sellable UOM Quantity': float,\n",
    "                            'Existing MSRP (list)': pd.Int32Dtype(),\n",
    "                            'Cost % Difference': float,\n",
    "                            'Old Margin': float,\n",
    "                            'New Margin': float,\n",
    "                            'Margin Difference': float,\n",
    "                            'Vendor Filled?': str,\n",
    "                            'NDC Format Check': str}"
   ]
  },
  {
   "cell_type": "code",
   "execution_count": 76,
   "metadata": {},
   "outputs": [],
   "source": [
    "# df_post_processing.columns.to_list()[:-15]"
   ]
  },
  {
   "cell_type": "code",
   "execution_count": 77,
   "metadata": {},
   "outputs": [
    {
     "name": "stdout",
     "output_type": "stream",
     "text": [
      "KB - rx_catalog_Animal Health International Inc_25-04-2023\n",
      "Reading sheet Vendor_Catalog\n",
      "KB rx_catalog_HSB VETERINARY SUPPLIES INC_25-04-2023\n",
      "Reading sheet Vendor_Catalog\n"
     ]
    }
   ],
   "source": [
    "responses_as_df = []\n",
    "for path in vendor_response_path.glob('*.xlsx'):\n",
    "    print(path.stem)\n",
    "    df_vendor_response = pd.read_excel(path, \n",
    "                                       sheet_name='Vendor_Catalog', \n",
    "                                       header=1,\n",
    "                                       dtype=rx_template_column_dtypes,\n",
    "                                       engine='openpyxl',\n",
    "                                       na_values={'New Cost per Sellable UOM Quantity': \"-\",\n",
    "                                                  'Cost per Sellable UOM \\n(Vendor Purchasing Cost/Purchasing UOM Qty)': \"-\",\n",
    "                                                  'Existing MSRP (list)':\"\",\n",
    "                                                  'New Cost per sellable UOM\\n(Calculated)':\"-\",\n",
    "                                                  },\n",
    "                                                  \n",
    "                                       verbose=True,\n",
    "                                    #    skiprows=2,\n",
    "                                       )\n",
    "    responses_as_df.append(df_vendor_response)"
   ]
  },
  {
   "attachments": {},
   "cell_type": "markdown",
   "metadata": {},
   "source": [
    "## Post Processing"
   ]
  },
  {
   "cell_type": "code",
   "execution_count": 78,
   "metadata": {},
   "outputs": [],
   "source": [
    "def convert_to_11_digits_if_10_digit_ndc(value):\n",
    "    # print(value)\n",
    "    if value == \"nan\" or value == \"\":\n",
    "        return 'New NDC not provided'\n",
    "    if re.match(r'\\d{5}-\\d{3}-\\d{2}', value):\n",
    "        return value[:6] + '0' + value[6:]\n",
    "    elif re.match(r'\\d{5}-\\d{4}-\\d{1}', value):\n",
    "        return value[:-1] + '0' + value[-1]\n",
    "    elif re.match(r'\\d{4}-\\d{4}-\\d{2}', value):\n",
    "        return '0' + value\n",
    "    elif re.match(r'\\d{5}-\\d{4}-\\d{2}', value):\n",
    "        return value\n",
    "    else:\n",
    "        return 'Incorrect NDC format'"
   ]
  },
  {
   "cell_type": "code",
   "execution_count": 79,
   "metadata": {},
   "outputs": [
    {
     "name": "stdout",
     "output_type": "stream",
     "text": [
      "(329, 40)\n",
      "(956, 40)\n"
     ]
    }
   ],
   "source": [
    "for df in responses_as_df:\n",
    "    df_post_processing = df.copy()\n",
    "\n",
    "    # print(df_post_processing.columns.to_list())\n",
    "    # Find the columns that have been filled by the vendor and create Vendor Filled? column\n",
    "    vendor_filled_mask = df_post_processing[fillable_vendor_data_columns].notnull().any(axis=1)\n",
    "    df_post_processing['Vendor Filled?'] = 'No'\n",
    "    df_post_processing.loc[vendor_filled_mask, 'Vendor Filled?'] = 'Yes'\n",
    "\n",
    "    \n",
    "    df_post_processing['New NDC'] = df_post_processing['New NDC'].astype(str)\n",
    "    df_post_processing['Chewy SKU'] = df_post_processing['Chewy SKU'].astype(str)\n",
    "    df_post_processing['NDC Format Check'] = df_post_processing[df_post_processing['Vendor Filled?']==\"Yes\"]['New NDC'].apply(convert_to_11_digits_if_10_digit_ndc)\n",
    "    df_post_processing.sort_values(by=['Vendor Filled?'], ascending=False, inplace=True)\n",
    "    df_post_processing['New NDC'] = df_post_processing['New NDC'].replace(\"nan\",\"\")\n",
    "\n",
    "    # Bring in List Price\n",
    "    df_post_processing = df_post_processing.merge(df_rx_price, how='left', left_on='Chewy SKU', right_on='product_part_number')\n",
    "    df_post_processing[\"Existing MSRP (list)\"] = df_post_processing.product_price_current\n",
    "\n",
    "    # Drop unneeded columns\n",
    "    df_post_processing = df_post_processing.drop(columns=['product_part_number', 'product_price_current', 'product_map_price'])\n",
    "\n",
    "    # Only keep non-blank Vendor Name rows\n",
    "    df_post_processing = df_post_processing.dropna(subset=['Vendor Name'])\n",
    "    \n",
    "    # df_post_processing.columns.to_list() == rx_template_columns\n",
    "    date_today = date.today().strftime('%m-%d-%Y')\n",
    "\n",
    "    create_excel_template(template_df = df_post_processing,\n",
    "                        template_file_path = 'rx_template.xlsx',\n",
    "                        template_password = 'mssve',\n",
    "                        output_path = f'./post_process_rx/{date_today}/',\n",
    "                        sheet_name = 'Vendor_Catalog',\n",
    "                        editable_columns = [],\n",
    "                        editable_cells = [],\n",
    "                        start_cell = 'A3',\n",
    "                        col_val_for_name = 'Vendor Name',\n",
    "                        cols_to_hide = [],\n",
    "                        # cols_to_hide = ['A', 'B', 'C'],\n",
    "                        # cols_to_hide = ['A', 'B', 'C', 'AD', 'AE', 'AF', 'AG', 'AH', 'AI', 'AJ', 'AK', 'AL', 'AM'],\n",
    "                        template_name = \"rx_processed\",\n",
    "                        date_cell = 'G2'\n",
    "                        )\n",
    "    \n",
    "    # display(df_post_processing['Vendor Filled?'].value_counts())\n",
    "    # display(df_post_processing)\n",
    "    print(df_post_processing.shape)\n"
   ]
  },
  {
   "attachments": {},
   "cell_type": "markdown",
   "metadata": {},
   "source": [
    "## Scratch"
   ]
  },
  {
   "cell_type": "code",
   "execution_count": 80,
   "metadata": {},
   "outputs": [],
   "source": [
    "# # Test with Sample data\n",
    "# data = {'formats': ['9999-9999-99', '99999-999-99', '99999-9999-9', '1234-5678-90', '12345-678-90', '12345-6789-0', 'invalid-1', 'invalid-2']}\n",
    "# df = pd.DataFrame(data)\n",
    "\n",
    "# converted_df = df_manipulation.convert_and_match_ndc(df, 'formats', 'NDC Format Check')\n",
    "# print(converted_df)"
   ]
  },
  {
   "cell_type": "code",
   "execution_count": 81,
   "metadata": {},
   "outputs": [],
   "source": [
    "# df_ndc_check[df_ndc_check.converted_11_digits == 'Incorrect NDC format'].to_csv('incorrect_ndc.csv')"
   ]
  },
  {
   "cell_type": "code",
   "execution_count": 82,
   "metadata": {},
   "outputs": [],
   "source": [
    "# import importlib\n",
    "# import df_manipulation\n",
    "\n",
    "# importlib.reload(df_manipulation)"
   ]
  }
 ],
 "metadata": {
  "kernelspec": {
   "display_name": "Python 3",
   "language": "python",
   "name": "python3"
  },
  "language_info": {
   "codemirror_mode": {
    "name": "ipython",
    "version": 3
   },
   "file_extension": ".py",
   "mimetype": "text/x-python",
   "name": "python",
   "nbconvert_exporter": "python",
   "pygments_lexer": "ipython3",
   "version": "3.10.5"
  },
  "orig_nbformat": 4
 },
 "nbformat": 4,
 "nbformat_minor": 2
}
